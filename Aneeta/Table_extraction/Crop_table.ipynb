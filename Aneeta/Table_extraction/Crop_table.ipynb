{
 "cells": [
  {
   "cell_type": "code",
   "execution_count": 1,
   "id": "6351e641",
   "metadata": {},
   "outputs": [],
   "source": [
    "import cv2\n",
    "import numpy as np"
   ]
  },
  {
   "cell_type": "code",
   "execution_count": 2,
   "id": "af627430",
   "metadata": {},
   "outputs": [],
   "source": [
    "def crop_table(image):\n",
    "    gray =cv2.cvtColor(image, cv2.COLOR_BGR2GRAY)\n",
    "    blurred = cv2.GaussianBlur(gray, (5,5), 0)\n",
    "    clahe = cv2.createCLAHE(clipLimit = 2.0, tileGridSize = (8, 8))\n",
    "    enhanced = clahe.apply(blurred)\n",
    "    edges = cv2.Canny(enhanced, 50, 150)\n",
    "    contours, _ =cv2.findContours(edges, cv2.RETR_EXTERNAL, cv2.CHAIN_APPROX_SIMPLE)\n",
    "    valid_contours = [cnt for cnt in contours if cv2.contourArea(cnt) > 1000]\n",
    "    \n",
    "    tab_co = []\n",
    "    for cont in valid_contours:\n",
    "        x, y, w, h = cv2.boundingRect(cont)\n",
    "        tab_co.append((x, y, w, h))\n",
    "    return(tab_co)"
   ]
  },
  {
   "cell_type": "code",
   "execution_count": 5,
   "id": "772c6df3",
   "metadata": {},
   "outputs": [
    {
     "name": "stdout",
     "output_type": "stream",
     "text": [
      "[(2318, 3667, 53, 65), (2001, 3588, 224, 219), (3008, 3427, 33, 50), (2223, 3370, 224, 213), (1061, 2943, 45, 39), (1296, 2936, 42, 43), (1760, 2779, 45, 50), (2214, 2732, 45, 55), (1652, 2247, 41, 33), (1957, 2080, 134, 53), (2852, 1893, 50, 50)]\n"
     ]
    }
   ],
   "source": [
    "image_path = 'IMG_9877.jpg'\n",
    "image = cv2.imread(image_path)\n",
    "table_coordinates = crop_table(image)\n",
    "print(table_coordinates)"
   ]
  },
  {
   "cell_type": "code",
   "execution_count": 9,
   "id": "76606714",
   "metadata": {},
   "outputs": [
    {
     "name": "stdout",
     "output_type": "stream",
     "text": [
      "(1061, 2943, 45, 39)\n"
     ]
    },
    {
     "data": {
      "text/plain": [
       "True"
      ]
     },
     "execution_count": 9,
     "metadata": {},
     "output_type": "execute_result"
    }
   ],
   "source": [
    "x, y, w, h = (2223, 3370, 224, 213)\n",
    "print(min(table_coordinates))\n",
    "sp_tab = image[y:y+h, x:x+w]\n",
    "cv2.imwrite('Cropped.jpg', sp_tab)"
   ]
  },
  {
   "cell_type": "code",
   "execution_count": null,
   "id": "b3ffe90c",
   "metadata": {},
   "outputs": [],
   "source": []
  }
 ],
 "metadata": {
  "kernelspec": {
   "display_name": "Python 3 (ipykernel)",
   "language": "python",
   "name": "python3"
  },
  "language_info": {
   "codemirror_mode": {
    "name": "ipython",
    "version": 3
   },
   "file_extension": ".py",
   "mimetype": "text/x-python",
   "name": "python",
   "nbconvert_exporter": "python",
   "pygments_lexer": "ipython3",
   "version": "3.10.1"
  }
 },
 "nbformat": 4,
 "nbformat_minor": 5
}
