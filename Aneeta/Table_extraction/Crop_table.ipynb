{
 "cells": [
  {
   "cell_type": "code",
   "execution_count": 1,
   "id": "6351e641",
   "metadata": {},
   "outputs": [],
   "source": [
    "import cv2\n",
    "import numpy as np"
   ]
  },
  {
   "cell_type": "code",
   "execution_count": 2,
   "id": "af627430",
   "metadata": {},
   "outputs": [],
   "source": [
    "def crop_table(image):\n",
    "    gray =cv2.cvtColor(image, cv2.COLOR_BGR2GRAY)\n",
    "    blurred = cv2.GaussianBlur(gray, (5,5), 0)\n",
    "    edges = cv2.Canny(blurred, 50, 150)\n",
    "    contours, _ =cv2.findContours(edges, cv2.RETR_EXTERNAL, cv2.CHAIN_APPROX_SIMPLE)\n",
    "    valid_contours = [cnt for cnt in contours if cv2.contourArea(cnt) > 1000]\n",
    "    \n",
    "    tab_co = []\n",
    "    for cont in valid_contours:\n",
    "        x, y, w, h = cv2.boundingRect(cont)\n",
    "        tab_co.append((x, y, w, h))\n",
    "    return(tab_co)"
   ]
  },
  {
   "cell_type": "code",
   "execution_count": 3,
   "id": "772c6df3",
   "metadata": {},
   "outputs": [],
   "source": [
    "image_path = '1.jpg'\n",
    "image = cv2.imread(image_path)\n",
    "table_coordinates = crop_table(image)"
   ]
  },
  {
   "cell_type": "code",
   "execution_count": 4,
   "id": "76606714",
   "metadata": {},
   "outputs": [
    {
     "data": {
      "text/plain": [
       "True"
      ]
     },
     "execution_count": 4,
     "metadata": {},
     "output_type": "execute_result"
    }
   ],
   "source": [
    "x, y, w, h = min(table_coordinates)\n",
    "sp_tab = image[y:y+h, x:x+w]\n",
    "cv2.imwrite('Cropped1.jpg', sp_tab)"
   ]
  },
  {
   "cell_type": "code",
   "execution_count": 8,
   "id": "b3ffe90c",
   "metadata": {},
   "outputs": [],
   "source": [
    "image = cv2.imread('Cropped1.jpg')\n",
    "h = image.shape[0] // 5\n",
    "w = image.shape[1] // 13\n",
    "\n",
    "for i in range(5): \n",
    "    for j in range(13): \n",
    "        ystart = i * h\n",
    "        yend = (i + 1) * h\n",
    "        xstart = j * w\n",
    "        xend = (j + 1) * w\n",
    "        \n",
    "        if ystart < image.shape[0] and xstart < image.shape[1]:\n",
    "            box = image[ystart:yend, xstart:xend]\n",
    "            cv2.imwrite(f'box_{i}_{j}.jpg', box)"
   ]
  },
  {
   "cell_type": "code",
   "execution_count": null,
   "id": "d758ea00",
   "metadata": {},
   "outputs": [],
   "source": []
  }
 ],
 "metadata": {
  "kernelspec": {
   "display_name": "Python 3 (ipykernel)",
   "language": "python",
   "name": "python3"
  },
  "language_info": {
   "codemirror_mode": {
    "name": "ipython",
    "version": 3
   },
   "file_extension": ".py",
   "mimetype": "text/x-python",
   "name": "python",
   "nbconvert_exporter": "python",
   "pygments_lexer": "ipython3",
   "version": "3.10.4"
  }
 },
 "nbformat": 4,
 "nbformat_minor": 5
}
