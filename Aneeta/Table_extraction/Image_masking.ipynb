{
 "cells": [
  {
   "cell_type": "code",
   "execution_count": 2,
   "id": "53d9e29b",
   "metadata": {},
   "outputs": [],
   "source": [
    "import cv2\n",
    "import numpy as np"
   ]
  },
  {
   "cell_type": "code",
   "execution_count": 3,
   "id": "6f6601b8",
   "metadata": {},
   "outputs": [],
   "source": [
    "def crop_table(image_path):\n",
    "    image = cv2.imread(image_path)\n",
    "    gray =cv2.cvtColor(image, cv2.COLOR_BGR2GRAY)\n",
    "    blurred = cv2.GaussianBlur(gray, (5,5), 0)\n",
    "    clahe = cv2.createCLAHE(clipLimit = 2.0, tileGridSize = (8, 8))\n",
    "    enhanced = clahe.apply(blurred)\n",
    "    edges = cv2.Canny(enhanced, 50, 150)\n",
    "    contours, _ =cv2.findContours(edges, cv2.RETR_EXTERNAL, cv2.CHAIN_APPROX_SIMPLE)\n",
    "    valid_contours = [cnt for cnt in contours if cv2.contourArea(cnt) > 1000]\n",
    "    mask = np.zeros_like(gray)\n",
    "    cv2.drawContours(mask, valid_contours, -1, (255), thickness=cv2.FILLED)\n",
    "    result = cv2.bitwise_and(image, image, mask=mask)\n",
    "    cv2.imwrite('New.jpg', result)"
   ]
  },
  {
   "cell_type": "code",
   "execution_count": 4,
   "id": "51a3b009",
   "metadata": {},
   "outputs": [],
   "source": [
    "image_path = 'IMG_9877.jpg'\n",
    "crop_table(image_path)"
   ]
  },
  {
   "cell_type": "code",
   "execution_count": null,
   "id": "09be4cce",
   "metadata": {},
   "outputs": [],
   "source": []
  }
 ],
 "metadata": {
  "kernelspec": {
   "display_name": "Python 3 (ipykernel)",
   "language": "python",
   "name": "python3"
  },
  "language_info": {
   "codemirror_mode": {
    "name": "ipython",
    "version": 3
   },
   "file_extension": ".py",
   "mimetype": "text/x-python",
   "name": "python",
   "nbconvert_exporter": "python",
   "pygments_lexer": "ipython3",
   "version": "3.10.1"
  }
 },
 "nbformat": 4,
 "nbformat_minor": 5
}
