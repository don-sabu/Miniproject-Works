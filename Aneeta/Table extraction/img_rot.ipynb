{
 "cells": [
  {
   "cell_type": "code",
   "execution_count": 1,
   "id": "70939e52",
   "metadata": {},
   "outputs": [],
   "source": [
    "import cv2\n",
    "import numpy as np"
   ]
  },
  {
   "cell_type": "code",
   "execution_count": 2,
   "id": "a2fed20c",
   "metadata": {},
   "outputs": [],
   "source": [
    "def rotate_image(image_path, angle):\n",
    "    image = cv2.imread(image_path)\n",
    "    rh, rw = image.shape[:2]\n",
    "    center = (rw/2,rh/2)\n",
    "    rot_mat = cv2.getRotationMatrix2D(center, angle, 1.0)\n",
    "    rot_img = cv2.warpAffine(image, rot_mat, (rw, rh))\n",
    "    return rot_img"
   ]
  },
  {
   "cell_type": "code",
   "execution_count": 3,
   "id": "b85f6511",
   "metadata": {},
   "outputs": [
    {
     "data": {
      "text/plain": [
       "True"
      ]
     },
     "execution_count": 3,
     "metadata": {},
     "output_type": "execute_result"
    }
   ],
   "source": [
    "image_path = 'Table2.jpg'\n",
    "angle = -40\n",
    "rotated = rotate_image(image_path, angle)\n",
    "cv2.imwrite('Rotated.jpg', rotated)"
   ]
  },
  {
   "cell_type": "code",
   "execution_count": null,
   "id": "c6ca3cc9",
   "metadata": {},
   "outputs": [],
   "source": []
  }
 ],
 "metadata": {
  "kernelspec": {
   "display_name": "Python 3 (ipykernel)",
   "language": "python",
   "name": "python3"
  },
  "language_info": {
   "codemirror_mode": {
    "name": "ipython",
    "version": 3
   },
   "file_extension": ".py",
   "mimetype": "text/x-python",
   "name": "python",
   "nbconvert_exporter": "python",
   "pygments_lexer": "ipython3",
   "version": "3.10.4"
  }
 },
 "nbformat": 4,
 "nbformat_minor": 5
}
