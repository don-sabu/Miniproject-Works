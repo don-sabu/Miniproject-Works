{
 "cells": [
  {
   "cell_type": "code",
   "execution_count": 10,
   "id": "eb572e88",
   "metadata": {},
   "outputs": [
    {
     "name": "stdout",
     "output_type": "stream",
     "text": [
      "[ExtractedTable(title=None, bbox=(270, 1396, 1859, 1918),shape=(5, 13)), ExtractedTable(title=None, bbox=(1458, 844, 1860, 1193),shape=(2, 2))]\n"
     ]
    }
   ],
   "source": [
    "# This module will contain the code to segment each cell from the warped image.\n",
    "\n",
    "from img2table.document import Image\n",
    "from PIL import Image as PILImage\n",
    "import numpy as np\n",
    "import cv2\n",
    "import matplotlib.pyplot as plt\n",
    "\n",
    "\n",
    "def extract_table(img_path):\n",
    "    img = Image(src=img_path)\n",
    "    extracted_tables = img.extract_tables()\n",
    "    print(extracted_tables)\n",
    "    return extracted_tables[0]\n",
    "\n",
    "\n",
    "def segment(image):\n",
    "    table_contents = extract_table(image).content\n",
    "    img = cv2.imread(image)\n",
    "    cp_table = img\n",
    "    my_dict = {}\n",
    "    cell_list = []\n",
    "    \n",
    "    for row in table_contents.values():\n",
    "        for cell in row:\n",
    "            cv2.rectangle(cp_table, (cell.bbox.x1, cell.bbox.y1), (cell.bbox.x2, cell.bbox.y2),(255, 0, 0), 3)\n",
    "    PILImage.fromarray(cp_table)\n",
    "\n",
    "    if len(table_contents.keys()) == 5 and sum(len(value) for value in table_contents.values()) == 65:\n",
    "        del table_contents[0], table_contents[4]\n",
    "\n",
    "        for row in table_contents.values():\n",
    "            for cell in row:\n",
    "                #cv2.rectangle(cp_table, (cell.bbox.x1, cell.bbox.y1), (cell.bbox.x2, cell.bbox.y2), (255, 0, 0), 3)\n",
    "                new_img = img[cell.bbox.y1:cell.bbox.y2, cell.bbox.x1:cell.bbox.x2]\n",
    "                img_arr = np.array(new_img)\n",
    "                cell_list.append(img_arr)\n",
    "        cell_arr = np.array(cell_list, dtype=object)\n",
    "        reshaped_cell_list = cell_arr.reshape(3, 13)\n",
    "        processed_cell_list = np.delete(reshaped_cell_list, 0, axis=1)\n",
    "\n",
    "        for i in range(1, 13):\n",
    "            key_list = []\n",
    "            for sublist in processed_cell_list:\n",
    "                key_list.append(sublist[i - 1])\n",
    "            my_dict[str(i)] = key_list\n",
    "\n",
    "    else:\n",
    "        raise Exception(\"Table not detected!!!\")\n",
    "     \n",
    "\n",
    "\n",
    "segment('warpped1.jpg')\n",
    "    \n"
   ]
  },
  {
   "cell_type": "code",
   "execution_count": 11,
   "id": "fba2f4a1",
   "metadata": {},
   "outputs": [
    {
     "name": "stdout",
     "output_type": "stream",
     "text": [
      "[ExtractedTable(title=None, bbox=(94, 903, 803, 1179),shape=(5, 13)), ExtractedTable(title=None, bbox=(95, 500, 801, 775),shape=(5, 13)), ExtractedTable(title=None, bbox=(97, 108, 798, 378),shape=(5, 13))]\n"
     ]
    }
   ],
   "source": [
    "segment('Image0.jpg')"
   ]
  },
  {
   "cell_type": "code",
   "execution_count": null,
   "id": "b2d6be23",
   "metadata": {},
   "outputs": [],
   "source": []
  }
 ],
 "metadata": {
  "kernelspec": {
   "display_name": "Python 3 (ipykernel)",
   "language": "python",
   "name": "python3"
  },
  "language_info": {
   "codemirror_mode": {
    "name": "ipython",
    "version": 3
   },
   "file_extension": ".py",
   "mimetype": "text/x-python",
   "name": "python",
   "nbconvert_exporter": "python",
   "pygments_lexer": "ipython3",
   "version": "3.10.4"
  }
 },
 "nbformat": 4,
 "nbformat_minor": 5
}
