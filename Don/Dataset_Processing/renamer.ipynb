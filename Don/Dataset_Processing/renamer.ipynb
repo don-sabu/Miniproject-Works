{
 "cells": [
  {
   "cell_type": "markdown",
   "id": "2533ba72-56c6-43bf-ad46-eb273bd3d35e",
   "metadata": {},
   "source": [
    "### Dataset Rename Utility"
   ]
  },
  {
   "cell_type": "code",
   "execution_count": 1,
   "id": "94b378df-05f4-4c07-aeab-3dd95f1eda80",
   "metadata": {},
   "outputs": [],
   "source": [
    "import os"
   ]
  },
  {
   "cell_type": "code",
   "execution_count": 40,
   "id": "e0f23cc1",
   "metadata": {},
   "outputs": [],
   "source": [
    "def rename(root):\n",
    "    for dir in os.listdir(root):\n",
    "        if os.path.isdir(root+dir):\n",
    "            print(root+dir)\n",
    "            count = 1\n",
    "            for file in os.listdir(root+dir):\n",
    "                if not os.path.isdir(root+dir+'/'+file):\n",
    "                    new_name = f'{dir}_({count:04d}).jpg'\n",
    "                    try:\n",
    "                        os.rename(root+dir+'/'+file, root+dir+'/'+new_name)\n",
    "                    except FileExistsError:\n",
    "                        pass\n",
    "                    count = count + 1"
   ]
  },
  {
   "cell_type": "code",
   "execution_count": 41,
   "id": "13688890",
   "metadata": {},
   "outputs": [
    {
     "name": "stdout",
     "output_type": "stream",
     "text": [
      "/Project/Coding/20240204 Miniproject Works/Miniproject-Works/Aneeta/img2table/Cell_cropped/0\n",
      "/Project/Coding/20240204 Miniproject Works/Miniproject-Works/Aneeta/img2table/Cell_cropped/0.5\n",
      "/Project/Coding/20240204 Miniproject Works/Miniproject-Works/Aneeta/img2table/Cell_cropped/1\n",
      "/Project/Coding/20240204 Miniproject Works/Miniproject-Works/Aneeta/img2table/Cell_cropped/1.5\n",
      "/Project/Coding/20240204 Miniproject Works/Miniproject-Works/Aneeta/img2table/Cell_cropped/10\n",
      "/Project/Coding/20240204 Miniproject Works/Miniproject-Works/Aneeta/img2table/Cell_cropped/2\n",
      "/Project/Coding/20240204 Miniproject Works/Miniproject-Works/Aneeta/img2table/Cell_cropped/2.5\n",
      "/Project/Coding/20240204 Miniproject Works/Miniproject-Works/Aneeta/img2table/Cell_cropped/3\n",
      "/Project/Coding/20240204 Miniproject Works/Miniproject-Works/Aneeta/img2table/Cell_cropped/3.5\n",
      "/Project/Coding/20240204 Miniproject Works/Miniproject-Works/Aneeta/img2table/Cell_cropped/4\n",
      "/Project/Coding/20240204 Miniproject Works/Miniproject-Works/Aneeta/img2table/Cell_cropped/4.5\n",
      "/Project/Coding/20240204 Miniproject Works/Miniproject-Works/Aneeta/img2table/Cell_cropped/5\n",
      "/Project/Coding/20240204 Miniproject Works/Miniproject-Works/Aneeta/img2table/Cell_cropped/5.5\n",
      "/Project/Coding/20240204 Miniproject Works/Miniproject-Works/Aneeta/img2table/Cell_cropped/6\n",
      "/Project/Coding/20240204 Miniproject Works/Miniproject-Works/Aneeta/img2table/Cell_cropped/6.5\n",
      "/Project/Coding/20240204 Miniproject Works/Miniproject-Works/Aneeta/img2table/Cell_cropped/7\n",
      "/Project/Coding/20240204 Miniproject Works/Miniproject-Works/Aneeta/img2table/Cell_cropped/7.5\n",
      "/Project/Coding/20240204 Miniproject Works/Miniproject-Works/Aneeta/img2table/Cell_cropped/8\n",
      "/Project/Coding/20240204 Miniproject Works/Miniproject-Works/Aneeta/img2table/Cell_cropped/8.5\n",
      "/Project/Coding/20240204 Miniproject Works/Miniproject-Works/Aneeta/img2table/Cell_cropped/9\n",
      "/Project/Coding/20240204 Miniproject Works/Miniproject-Works/Aneeta/img2table/Cell_cropped/9.5\n"
     ]
    }
   ],
   "source": [
    "root_dir = \"/Project/Coding/20240204 Miniproject Works/Miniproject-Works/Aneeta/img2table/Cell_cropped/\"\n",
    "rename(root_dir)"
   ]
  },
  {
   "cell_type": "code",
   "execution_count": 8,
   "id": "c7cf9793",
   "metadata": {},
   "outputs": [
    {
     "name": "stdout",
     "output_type": "stream",
     "text": [
      "1.5_(0005).jpg\n"
     ]
    }
   ],
   "source": [
    "number = 5\n",
    "dir = \"1.5\"\n",
    "print(f'{dir}_({number:04d}).jpg')"
   ]
  },
  {
   "cell_type": "code",
   "execution_count": null,
   "id": "7f48a0ee",
   "metadata": {},
   "outputs": [],
   "source": []
  }
 ],
 "metadata": {
  "kernelspec": {
   "display_name": "Python 3 (ipykernel)",
   "language": "python",
   "name": "python3"
  },
  "language_info": {
   "codemirror_mode": {
    "name": "ipython",
    "version": 3
   },
   "file_extension": ".py",
   "mimetype": "text/x-python",
   "name": "python",
   "nbconvert_exporter": "python",
   "pygments_lexer": "ipython3",
   "version": "3.11.2"
  }
 },
 "nbformat": 4,
 "nbformat_minor": 5
}
