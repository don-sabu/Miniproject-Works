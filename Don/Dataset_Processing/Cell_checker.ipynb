{
 "cells": [
  {
   "cell_type": "code",
   "execution_count": 3,
   "id": "fba37c3b",
   "metadata": {},
   "outputs": [],
   "source": [
    "def validCell(table_width, cell_height, cell_width):\n",
    "    \"\"\"\n",
    "    Checks if an image of cell is actually a single cell\n",
    "    \n",
    "    : returns:\n",
    "        * If it is a valid cell\n",
    "        * ratio of height or number of vertical cells together\n",
    "        * ratio of width or number of horizontal cells together\n",
    "    \"\"\"\n",
    "    height = width = 1\n",
    "    ideal_length = table_width / 13\n",
    "    h = round(cell_height / ideal_length)\n",
    "    w = round(cell_width / ideal_length)\n",
    "    if h == 1 and w ==1:\n",
    "        return (true, h, w)\n",
    "    return (false, h, w)"
   ]
  },
  {
   "cell_type": "code",
   "execution_count": null,
   "id": "b3a1e876",
   "metadata": {},
   "outputs": [],
   "source": []
  }
 ],
 "metadata": {
  "kernelspec": {
   "display_name": "Python 3 (ipykernel)",
   "language": "python",
   "name": "python3"
  },
  "language_info": {
   "codemirror_mode": {
    "name": "ipython",
    "version": 3
   },
   "file_extension": ".py",
   "mimetype": "text/x-python",
   "name": "python",
   "nbconvert_exporter": "python",
   "pygments_lexer": "ipython3",
   "version": "3.11.2"
  }
 },
 "nbformat": 4,
 "nbformat_minor": 5
}
