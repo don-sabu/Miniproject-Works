{
 "cells": [
  {
   "cell_type": "markdown",
   "id": "2533ba72-56c6-43bf-ad46-eb273bd3d35e",
   "metadata": {},
   "source": [
    "### Dataset Cleaner"
   ]
  },
  {
   "cell_type": "code",
   "execution_count": null,
   "id": "94b378df-05f4-4c07-aeab-3dd95f1eda80",
   "metadata": {},
   "outputs": [],
   "source": []
  }
 ],
 "metadata": {
  "kernelspec": {
   "display_name": "Python 3 (ipykernel)",
   "language": "python",
   "name": "python3"
  },
  "language_info": {
   "codemirror_mode": {
    "name": "ipython",
    "version": 3
   },
   "file_extension": ".py",
   "mimetype": "text/x-python",
   "name": "python",
   "nbconvert_exporter": "python",
   "pygments_lexer": "ipython3",
   "version": "3.9.18"
  }
 },
 "nbformat": 4,
 "nbformat_minor": 5
}
