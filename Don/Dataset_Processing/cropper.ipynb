{
 "cells": [
  {
   "cell_type": "code",
   "execution_count": 1,
   "id": "9c3809eb",
   "metadata": {},
   "outputs": [],
   "source": [
    "import cv2\n",
    "import os"
   ]
  },
  {
   "cell_type": "code",
   "execution_count": 2,
   "id": "bd4e2da6",
   "metadata": {},
   "outputs": [],
   "source": [
    "def resize(image, size):\n",
    "    dim = (size, size)\n",
    "    return cv2.resize(image, dim, interpolation = cv2.INTER_LINEAR)"
   ]
  },
  {
   "cell_type": "code",
   "execution_count": 3,
   "id": "b9d16ebd",
   "metadata": {},
   "outputs": [],
   "source": [
    "def getSize(h, w):\n",
    "    \n",
    "    \"\"\"\n",
    "    Finds the shortest side and calculates the four corners so that the longest side \n",
    "    will be cropped equally from both sides and the resultant image will be a square \n",
    "    with length of the shorter side.\n",
    "    \n",
    "    :return: Four corners where the image must be croped\n",
    "    \"\"\"\n",
    "    \n",
    "    if h < w:\n",
    "        w1 = (w - h) // 2\n",
    "        w2 = h + w1\n",
    "        h1 = 0\n",
    "        h2 = h\n",
    "    else:\n",
    "        h1 = (h - w) // 2\n",
    "        h2 = w + h1\n",
    "        w1 = 0\n",
    "        w2 = w\n",
    "    return h1, h2, w1, w2"
   ]
  },
  {
   "cell_type": "code",
   "execution_count": 4,
   "id": "cb4a8af9",
   "metadata": {},
   "outputs": [],
   "source": [
    "def process(src_directory, dest_directory, images, size = 40):\n",
    "    for image in images:\n",
    "        path = src_directory + image\n",
    "        dest_path = dest_directory + image\n",
    "        if not os.path.isfile(path):\n",
    "            continue\n",
    "        img = cv2.imread(path)\n",
    "        height, width, _ = img.shape\n",
    "        h1 = w1 = 0\n",
    "        h2 = height\n",
    "        w2 = width\n",
    "        if height != width:\n",
    "            h1, h2, w1, w2 = getSize(height, width)\n",
    "        cropped_img = img[h1:h2, w1:w2]\n",
    "        cv2.imwrite(dest_path, resize(cropped_img, size))"
   ]
  },
  {
   "cell_type": "code",
   "execution_count": 5,
   "id": "bae966de",
   "metadata": {},
   "outputs": [],
   "source": [
    "if __name__ == \"__main__\":\n",
    "    \n",
    "    #update this before using\n",
    "    source_folder_path = \"Sample_Data/\"\n",
    "    destination_folder_path = \"Sample_Data/Cropped/\"\n",
    "    \n",
    "    images_filename = os.listdir(source_folder_path)\n",
    "    process(source_folder_path, destination_folder_path, images_filename, 40)"
   ]
  },
  {
   "cell_type": "code",
   "execution_count": null,
   "id": "54ac1b3a",
   "metadata": {},
   "outputs": [],
   "source": []
  }
 ],
 "metadata": {
  "kernelspec": {
   "display_name": "Python 3 (ipykernel)",
   "language": "python",
   "name": "python3"
  },
  "language_info": {
   "codemirror_mode": {
    "name": "ipython",
    "version": 3
   },
   "file_extension": ".py",
   "mimetype": "text/x-python",
   "name": "python",
   "nbconvert_exporter": "python",
   "pygments_lexer": "ipython3",
   "version": "3.11.2"
  }
 },
 "nbformat": 4,
 "nbformat_minor": 5
}
