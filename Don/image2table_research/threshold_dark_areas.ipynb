{
 "cells": [
  {
   "cell_type": "code",
   "execution_count": 11,
   "id": "7e3daa09",
   "metadata": {},
   "outputs": [],
   "source": [
    "import cv2\n",
    "import numpy as np\n",
    "from typing import Optional\n",
    "from matplotlib import pyplot as plt"
   ]
  },
  {
   "cell_type": "markdown",
   "id": "97add27c",
   "metadata": {},
   "source": [
    "## Function to show image"
   ]
  },
  {
   "cell_type": "code",
   "execution_count": 24,
   "id": "6b4edebe",
   "metadata": {},
   "outputs": [],
   "source": [
    "def showimage(image):\n",
    "    \n",
    "    def ResizeWithAspectRatio(image, width=None, height=None, inter=cv2.INTER_AREA):\n",
    "        dim = None\n",
    "        (h, w) = image.shape[:2]\n",
    "\n",
    "        if width is None and height is None:\n",
    "            return image\n",
    "        if width is None:\n",
    "            r = height / float(h)\n",
    "            dim = (int(w * r), height)\n",
    "        else:\n",
    "            r = width / float(w)\n",
    "            dim = (width, int(h * r))\n",
    "\n",
    "        return cv2.resize(image, dim, interpolation=inter)\n",
    "    \n",
    "    \n",
    "    resize = ResizeWithAspectRatio(image, width=600)\n",
    "    \n",
    "    \n",
    "    cv2.imshow('Original Image', resize)\n",
    "    cv2.waitKey(0)\n",
    "    cv2.destroyAllWindows()"
   ]
  },
  {
   "cell_type": "code",
   "execution_count": 4,
   "id": "90a34dea",
   "metadata": {},
   "outputs": [],
   "source": [
    "def threshold_dark_areas(img: np.ndarray, char_length: Optional[float]) -> np.ndarray:\n",
    "    \"\"\"\n",
    "    Threshold image by differentiating areas with light and dark backgrounds\n",
    "    :param img: image array\n",
    "    :param char_length: average character length\n",
    "    :return: threshold image\n",
    "    \"\"\"\n",
    "    # Get threshold on image and binary image\n",
    "    blur = cv2.GaussianBlur(img, (3, 3), 0)\n",
    "\n",
    "    thresh_kernel = max(int(round(char_length)), 1) if char_length else 21\n",
    "    thresh_kernel = thresh_kernel + 1 if thresh_kernel % 2 == 0 else thresh_kernel\n",
    "\n",
    "    thresh = cv2.adaptiveThreshold(blur, 255, cv2.ADAPTIVE_THRESH_GAUSSIAN_C, cv2.THRESH_BINARY_INV, thresh_kernel, 5)\n",
    "    binary_thresh = cv2.adaptiveThreshold(255 - blur, 255, cv2.ADAPTIVE_THRESH_GAUSSIAN_C, cv2.THRESH_BINARY_INV, thresh_kernel, 5)\n",
    "\n",
    "    # Mask on areas with dark background\n",
    "    blur_size = min(255, max(int(2 * char_length) + 1 - int(2 * char_length) % 2, 1) if char_length else 11)\n",
    "    blur = cv2.GaussianBlur(img, (blur_size, blur_size), 0)\n",
    "    mask = cv2.inRange(blur, 0, 100)\n",
    "\n",
    "    # Get contours of dark areas\n",
    "    contours, _ = cv2.findContours(mask, cv2.RETR_EXTERNAL, cv2.CHAIN_APPROX_SIMPLE)\n",
    "\n",
    "    # For each dark area, use binary threshold instead of regular threshold\n",
    "    for c in contours:\n",
    "        x, y, w, h = cv2.boundingRect(c)\n",
    "\n",
    "        margin = int(char_length) if char_length else 21\n",
    "        if min(w, h) > 2 * margin and w * h / np.prod(img.shape[:2]) < 0.9:\n",
    "            thresh[y+margin:y+h-margin, x+margin:x+w-margin] = binary_thresh[y+margin:y+h-margin, x+margin:x+w-margin]\n",
    "\n",
    "    return thresh\n"
   ]
  },
  {
   "cell_type": "code",
   "execution_count": 25,
   "id": "6f6f5320",
   "metadata": {},
   "outputs": [],
   "source": [
    "image_path = 'sample_image02.jpeg'\n",
    "original_image = cv2.imread(image_path, cv2.IMREAD_GRAYSCALE)\n",
    "showimage(original_image)"
   ]
  },
  {
   "cell_type": "code",
   "execution_count": 23,
   "id": "410eee73",
   "metadata": {},
   "outputs": [],
   "source": [
    "char_length = None\n",
    "\n",
    "# Apply the function\n",
    "thresholded_image = threshold_dark_areas(original_image, char_length)\n",
    "\n",
    "showimage(thresholded_image)"
   ]
  },
  {
   "cell_type": "code",
   "execution_count": null,
   "id": "2d6bd92a",
   "metadata": {},
   "outputs": [],
   "source": []
  }
 ],
 "metadata": {
  "kernelspec": {
   "display_name": "Python 3 (ipykernel)",
   "language": "python",
   "name": "python3"
  },
  "language_info": {
   "codemirror_mode": {
    "name": "ipython",
    "version": 3
   },
   "file_extension": ".py",
   "mimetype": "text/x-python",
   "name": "python",
   "nbconvert_exporter": "python",
   "pygments_lexer": "ipython3",
   "version": "3.11.2"
  }
 },
 "nbformat": 4,
 "nbformat_minor": 5
}
