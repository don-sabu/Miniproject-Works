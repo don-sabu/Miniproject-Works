{
 "cells": [
  {
   "cell_type": "code",
   "execution_count": 1,
   "id": "6936d181",
   "metadata": {},
   "outputs": [
    {
     "name": "stderr",
     "output_type": "stream",
     "text": [
      "2024-02-09 22:44:49.064716: I tensorflow/core/platform/cpu_feature_guard.cc:193] This TensorFlow binary is optimized with oneAPI Deep Neural Network Library (oneDNN) to use the following CPU instructions in performance-critical operations:  AVX2 FMA\n",
      "To enable them in other operations, rebuild TensorFlow with the appropriate compiler flags.\n"
     ]
    }
   ],
   "source": [
    "import cv2\n",
    "import numpy as np\n",
    "import matplotlib. pyplot as plt\n",
    "import tensorflow as tf"
   ]
  },
  {
   "cell_type": "code",
   "execution_count": null,
   "id": "0cedecd3",
   "metadata": {},
   "outputs": [],
   "source": [
    "mnist = tf.keras.datasets.mnist\n",
    "(x_train, y_train), (x_test, y_test) = mnist.load_data()"
   ]
  },
  {
   "cell_type": "code",
   "execution_count": null,
   "id": "47347d8f",
   "metadata": {},
   "outputs": [],
   "source": [
    "x_train = tf. keras.utils.normalize(x_train, axis=1)\n",
    "x_test = tf. keras.utils.normalize(x_test, axis=1)"
   ]
  },
  {
   "cell_type": "code",
   "execution_count": null,
   "id": "6e8db6bf",
   "metadata": {},
   "outputs": [],
   "source": [
    "model = tf.keras.models.Sequential()\n",
    "model.add(tf.keras.layers.Flatten(input_shape=(28,28)))\n",
    "model.add(tf.keras.layers.Dense(128,activation='relu'))\n",
    "model.add(tf.keras.layers.Dense(128,activation='relu'))\n",
    "model.add(tf.keras.layers.Dense(10 ,activation='softmax'))"
   ]
  },
  {
   "cell_type": "code",
   "execution_count": null,
   "id": "77394deb",
   "metadata": {},
   "outputs": [],
   "source": [
    "model.compile(optimizer='adam',loss='sparse_categorical_crossentropy',metrics=['accuracy'])"
   ]
  },
  {
   "cell_type": "code",
   "execution_count": null,
   "id": "d6be9af1",
   "metadata": {},
   "outputs": [],
   "source": [
    "model.fit(x_train,y_train,epochs=10)"
   ]
  },
  {
   "cell_type": "code",
   "execution_count": null,
   "id": "f480c3cf",
   "metadata": {},
   "outputs": [],
   "source": [
    "model.save('test.keras')"
   ]
  },
  {
   "cell_type": "code",
   "execution_count": null,
   "id": "0b8a8248",
   "metadata": {},
   "outputs": [],
   "source": [
    "loss,accuracy=model.evaluate(x_test,y_test)"
   ]
  },
  {
   "cell_type": "code",
   "execution_count": null,
   "id": "bbb88571",
   "metadata": {},
   "outputs": [],
   "source": [
    "print(\"Accuracy = \",accuracy)\n",
    "print(\"LOSS = \",loss)"
   ]
  },
  {
   "cell_type": "code",
   "execution_count": 2,
   "id": "a1ce1b1d",
   "metadata": {},
   "outputs": [],
   "source": [
    "model = tf.keras.models.load_model('test.keras')"
   ]
  },
  {
   "cell_type": "code",
   "execution_count": 3,
   "id": "12a731a3",
   "metadata": {},
   "outputs": [],
   "source": [
    "from tensorflow.keras.models import load_model\n",
    "from PIL import Image, ImageEnhance, ImageFilter, ImageOps\n",
    "import numpy as np\n",
    "import cv2\n",
    "import matplotlib.pyplot as plt\n",
    "\n",
    "def preprocess_image_for_mnist(image_path):\n",
    "    # Load the image\n",
    "    image = Image.open(image_path)\n",
    "\n",
    "    # Enhance the image's contrast\n",
    "    enhancer = ImageEnhance.Contrast(image)\n",
    "    enhanced_image = enhancer.enhance(2)  # Increase contrast\n",
    "\n",
    "    # Apply sharpening\n",
    "    sharpened_image = enhanced_image.filter(ImageFilter.SHARPEN)\n",
    "\n",
    "    # Convert to grayscale\n",
    "    gray_image = sharpened_image.convert('L')\n",
    "\n",
    "    # Resize to 28x28\n",
    "    resized_image = gray_image.resize((28, 28))\n",
    "\n",
    "    # Invert colors if necessary (white-on-black to black-on-white)\n",
    "    # Assuming the original is black-on-white and we need white-on-black for MNIST\n",
    "    inverted_image = ImageOps.invert(resized_image)\n",
    "\n",
    "    # Normalize pixel values\n",
    "    image_array = np.asarray(inverted_image) / 255.0\n",
    "    return image_array\n",
    "\n",
    "\n",
    "image_path = 'box_1_7.jpg'\n",
    "preprocessed_image_array = np.expand_dims(preprocess_image_for_mnist(image_path),axis=0)"
   ]
  },
  {
   "cell_type": "code",
   "execution_count": 4,
   "id": "daaa6bda",
   "metadata": {},
   "outputs": [
    {
     "name": "stdout",
     "output_type": "stream",
     "text": [
      "1/1 [==============================] - 0s 116ms/step\n",
      " The Number is :  6\n"
     ]
    }
   ],
   "source": [
    "prediction = model.predict(preprocessed_image_array)\n",
    "print(\" The Number is : \",np.argmax(prediction))"
   ]
  }
 ],
 "metadata": {
  "kernelspec": {
   "display_name": "Python 3 (ipykernel)",
   "language": "python",
   "name": "python3"
  },
  "language_info": {
   "codemirror_mode": {
    "name": "ipython",
    "version": 3
   },
   "file_extension": ".py",
   "mimetype": "text/x-python",
   "name": "python",
   "nbconvert_exporter": "python",
   "pygments_lexer": "ipython3",
   "version": "3.10.4"
  }
 },
 "nbformat": 4,
 "nbformat_minor": 5
}
