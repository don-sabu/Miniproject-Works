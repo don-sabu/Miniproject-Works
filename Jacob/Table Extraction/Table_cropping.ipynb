{
 "cells": [
  {
   "cell_type": "code",
   "execution_count": 1,
   "id": "53d9e29b",
   "metadata": {},
   "outputs": [],
   "source": [
    "import cv2\n",
    "import numpy as np"
   ]
  },
  {
   "cell_type": "markdown",
   "id": "54d74cb5",
   "metadata": {},
   "source": [
    "# Extracting the table of marks"
   ]
  },
  {
   "cell_type": "code",
   "execution_count": 2,
   "id": "1078c5e0",
   "metadata": {},
   "outputs": [],
   "source": [
    "def crop_table(image_path):\n",
    "    image = cv2.imread(image_path)\n",
    "    gray =cv2.cvtColor(image, cv2.COLOR_BGR2GRAY)\n",
    "    blurred = cv2.GaussianBlur(gray, (5,5), 0)\n",
    "    clahe = cv2.createCLAHE(clipLimit = 2.0, tileGridSize = (8, 8))\n",
    "    enhanced = clahe.apply(blurred)\n",
    "    edges = cv2.Canny(enhanced, 50, 150)\n",
    "    contours, _ =cv2.findContours(edges, cv2.RETR_EXTERNAL, cv2.CHAIN_APPROX_SIMPLE)\n",
    "    valid_contours = [cnt for cnt in contours if cv2.contourArea(cnt) > 1000]\n",
    "    mask = np.zeros_like(gray)\n",
    "    cv2.drawContours(mask, valid_contours, -1, (255), thickness=cv2.FILLED)\n",
    "    result = cv2.bitwise_and(image, image, mask=mask)\n",
    "    gray =cv2.cvtColor(result, cv2.COLOR_BGR2GRAY)\n",
    "    blurred = cv2.GaussianBlur(gray, (5,5), 0)\n",
    "    edges = cv2.Canny(blurred, 50, 150)\n",
    "    contours, _ =cv2.findContours(edges, cv2.RETR_EXTERNAL, cv2.CHAIN_APPROX_SIMPLE)\n",
    "    valid_contours = [cnt for cnt in contours if cv2.contourArea(cnt) > 1000]\n",
    "    \n",
    "    table_coor = []\n",
    "    for cont in valid_contours:\n",
    "        x, y, w, h = cv2.boundingRect(cont)\n",
    "        table_coor.append((x, y, w, h))\n",
    "        \n",
    "    return(table_coor)"
   ]
  },
  {
   "cell_type": "code",
   "execution_count": 5,
   "id": "51a3b009",
   "metadata": {},
   "outputs": [
    {
     "data": {
      "text/plain": [
       "True"
      ]
     },
     "execution_count": 5,
     "metadata": {},
     "output_type": "execute_result"
    }
   ],
   "source": [
    "l=[]\n",
    "image_path = 'IMG_9877.jpg'\n",
    "tab_coor = crop_table(image_path)\n",
    "image = cv2.imread(image_path)\n",
    "for i in tab_coor:\n",
    "    l.append(i[3])\n",
    "ind=l.index(max(l))\n",
    "x, y, w, h = tab_coor[ind]\n",
    "sp_tab = image[y:y+h, x:x+w]\n",
    "cv2.imwrite('Cropped.jpg', sp_tab)"
   ]
  },
  {
   "cell_type": "markdown",
   "id": "6764f554",
   "metadata": {},
   "source": [
    "# Crop Cells"
   ]
  },
  {
   "cell_type": "code",
   "execution_count": 4,
   "id": "09be4cce",
   "metadata": {},
   "outputs": [],
   "source": [
    "image = cv2.imread('Cropped.jpg')\n",
    "h = image.shape[0] // 5\n",
    "w = image.shape[1] // 13\n",
    "\n",
    "for i in range(5): \n",
    "    for j in range(13): \n",
    "        ystart = i * h\n",
    "        yend = (i + 1) * h\n",
    "        xstart = j * w\n",
    "        xend = (j + 1) * w\n",
    "        \n",
    "        if ystart < image.shape[0] and xstart < image.shape[1]:\n",
    "            box = image[ystart:yend, xstart:xend]\n",
    "            cv2.imwrite(f'./Cropped_Images/box_{i}_{j}.jpg', box)"
   ]
  },
  {
   "cell_type": "code",
   "execution_count": null,
   "id": "f32f68ac",
   "metadata": {},
   "outputs": [],
   "source": []
  }
 ],
 "metadata": {
  "kernelspec": {
   "display_name": "Python 3 (ipykernel)",
   "language": "python",
   "name": "python3"
  },
  "language_info": {
   "codemirror_mode": {
    "name": "ipython",
    "version": 3
   },
   "file_extension": ".py",
   "mimetype": "text/x-python",
   "name": "python",
   "nbconvert_exporter": "python",
   "pygments_lexer": "ipython3",
   "version": "3.10.1"
  }
 },
 "nbformat": 4,
 "nbformat_minor": 5
}
