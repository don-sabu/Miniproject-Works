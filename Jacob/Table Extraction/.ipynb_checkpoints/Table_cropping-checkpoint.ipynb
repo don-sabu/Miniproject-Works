{
 "cells": [
  {
   "cell_type": "code",
   "execution_count": 1,
   "id": "53d9e29b",
   "metadata": {},
   "outputs": [],
   "source": [
    "import cv2\n",
    "import numpy as np"
   ]
  },
  {
   "cell_type": "markdown",
   "id": "54d74cb5",
   "metadata": {},
   "source": [
    "# Extracting the table of marks"
   ]
  },
  {
   "cell_type": "code",
   "execution_count": 5,
   "id": "da22f44b",
   "metadata": {},
   "outputs": [
    {
     "data": {
      "text/plain": [
       "True"
      ]
     },
     "execution_count": 5,
     "metadata": {},
     "output_type": "execute_result"
    }
   ],
   "source": [
    "import cv2\n",
    "import numpy as np\n",
    "\n",
    "def crop_table_new(image_path):\n",
    "    # Read the image\n",
    "    image = cv2.imread(image_path)\n",
    "    \n",
    "    # Convert to grayscale\n",
    "    gray = cv2.cvtColor(image, cv2.COLOR_BGR2GRAY)\n",
    "    \n",
    "    # Apply Gaussian blur\n",
    "    blurred = cv2.GaussianBlur(gray, (9, 9), 0)\n",
    "    \n",
    "    # Use adaptive thresholding to create a clear binary image\n",
    "    thresh = cv2.adaptiveThreshold(blurred, 255, cv2.ADAPTIVE_THRESH_GAUSSIAN_C,cv2.THRESH_BINARY_INV, 11, 2)\n",
    "    \n",
    "    # Find contours in the thresholded image\n",
    "    contours, _ = cv2.findContours(thresh, cv2.RETR_EXTERNAL, cv2.CHAIN_APPROX_SIMPLE)\n",
    "    \n",
    "    # Assume that the table is the largest contour in the bottom half of the image\n",
    "    possible_tables = [cnt for cnt in contours if cv2.boundingRect(cnt)[1] > gray.shape[0] / 2]\n",
    "    if not possible_tables:\n",
    "        raise Exception(\"No possible tables found in the bottom half of the image\")\n",
    "    \n",
    "    # Find the largest contour in the possible tables\n",
    "    table_contour = max(possible_tables, key=cv2.contourArea)\n",
    "    x, y, w, h = cv2.boundingRect(table_contour)\n",
    "    \n",
    "    # Crop the table from the image\n",
    "    cropped_table = image[y:y+h, x:x+w]\n",
    "    \n",
    "    return cropped_table\n",
    "\n",
    "# Path to the new image\n",
    "image_path_new = '2.jpeg' # Replace with your image path\n",
    "\n",
    "# Crop the table from the new image\n",
    "cropped_image_new = crop_table_new(image_path_new)\n",
    "\n",
    "# Save the cropped image to a file\n",
    "cropped_image_path_new = 'Cropped_new.jpg' # Replace with your desired output path\n",
    "cv2.imwrite(cropped_image_path_new, cropped_image_new)\n",
    "\n",
    "# If you want to display the image\n",
    "# cv2.imshow('Cropped Table', cropped_image_new)\n",
    "# cv2.waitKey(0)\n",
    "# cv2.destroyAllWindows()\n"
   ]
  },
  {
   "cell_type": "markdown",
   "id": "6764f554",
   "metadata": {},
   "source": [
    "# Crop Cells"
   ]
  },
  {
   "cell_type": "code",
   "execution_count": 4,
   "id": "09be4cce",
   "metadata": {},
   "outputs": [],
   "source": [
    "image = cv2.imread('Cropped.jpg')\n",
    "h = image.shape[0] // 5\n",
    "w = image.shape[1] // 13\n",
    "\n",
    "for i in range(5): \n",
    "    for j in range(13): \n",
    "        ystart = i * h\n",
    "        yend = (i + 1) * h\n",
    "        xstart = j * w\n",
    "        xend = (j + 1) * w\n",
    "        \n",
    "        if ystart < image.shape[0] and xstart < image.shape[1]:\n",
    "            box = image[ystart:yend, xstart:xend]\n",
    "            cv2.imwrite(f'./Cropped_Images/box_{i}_{j}.jpg', box)"
   ]
  }
 ],
 "metadata": {
  "kernelspec": {
   "display_name": "Python 3 (ipykernel)",
   "language": "python",
   "name": "python3"
  },
  "language_info": {
   "codemirror_mode": {
    "name": "ipython",
    "version": 3
   },
   "file_extension": ".py",
   "mimetype": "text/x-python",
   "name": "python",
   "nbconvert_exporter": "python",
   "pygments_lexer": "ipython3",
   "version": "3.10.1"
  }
 },
 "nbformat": 4,
 "nbformat_minor": 5
}
