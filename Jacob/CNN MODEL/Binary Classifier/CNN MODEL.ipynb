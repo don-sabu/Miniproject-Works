{
 "cells": [
  {
   "cell_type": "code",
   "execution_count": 1,
   "id": "98e6b314",
   "metadata": {},
   "outputs": [
    {
     "name": "stderr",
     "output_type": "stream",
     "text": [
      "2024-03-02 18:57:47.164759: I tensorflow/core/platform/cpu_feature_guard.cc:193] This TensorFlow binary is optimized with oneAPI Deep Neural Network Library (oneDNN) to use the following CPU instructions in performance-critical operations:  AVX2 FMA\n",
      "To enable them in other operations, rebuild TensorFlow with the appropriate compiler flags.\n"
     ]
    }
   ],
   "source": [
    "import tensorflow as tf\n",
    "from tensorflow.keras.preprocessing.image import ImageDataGenerator\n",
    "from tensorflow.keras.models import Sequential\n",
    "from tensorflow.keras.layers import Conv2D, MaxPooling2D, Flatten, Dense, Dropout\n",
    "from tensorflow.keras.preprocessing import image\n",
    "import numpy as np"
   ]
  },
  {
   "cell_type": "markdown",
   "id": "11c94cf6",
   "metadata": {},
   "source": [
    "### TRAIN MODEL "
   ]
  },
  {
   "cell_type": "code",
   "execution_count": null,
   "id": "97d717dd",
   "metadata": {},
   "outputs": [],
   "source": [
    "train_data_gen = ImageDataGenerator(rescale=1./255)\n",
    "test_data_gen = ImageDataGenerator(rescale=1./255)\n",
    "\n",
    "train_generator = train_data_gen.flow_from_directory(\n",
    "    'train',  \n",
    "    target_size=(28, 28),\n",
    "    color_mode='grayscale',\n",
    "    batch_size=32,\n",
    "    class_mode='sparse',\n",
    "    classes=['Single Digit','Halves']\n",
    ")\n",
    "\n",
    "\n",
    "test_generator = test_data_gen.flow_from_directory(\n",
    "    'test',\n",
    "    target_size=(28, 28),\n",
    "    color_mode='grayscale',\n",
    "    batch_size=32,\n",
    "    class_mode='sparse',\n",
    "    classes=['Single Digit','Halves']\n",
    ")"
   ]
  },
  {
   "cell_type": "code",
   "execution_count": null,
   "id": "a4c53ec1",
   "metadata": {},
   "outputs": [],
   "source": [
    "model = Sequential([\n",
    "    Conv2D(32, (3, 3), activation='relu', input_shape=(28, 28, 1)),\n",
    "    MaxPooling2D(2, 2),\n",
    "    Conv2D(64, (3, 3), activation='relu'),\n",
    "    MaxPooling2D(2, 2),\n",
    "    Flatten(),\n",
    "    Dense(128, activation='relu'),\n",
    "    Dropout(0.5),\n",
    "    Dense(15, activation='softmax') \n",
    "])"
   ]
  },
  {
   "cell_type": "code",
   "execution_count": null,
   "id": "5eb607df",
   "metadata": {},
   "outputs": [],
   "source": [
    "model.compile(optimizer='adam',loss='sparse_categorical_crossentropy',metrics=['accuracy'])"
   ]
  },
  {
   "cell_type": "code",
   "execution_count": 5,
   "id": "5752b2a4",
   "metadata": {},
   "outputs": [
    {
     "name": "stdout",
     "output_type": "stream",
     "text": [
      "Epoch 1/100\n",
      "122/122 [==============================] - 5s 34ms/step - loss: 0.6995 - accuracy: 0.6348 - val_loss: 0.2710 - val_accuracy: 0.9250\n",
      "Epoch 2/100\n",
      "122/122 [==============================] - 2s 17ms/step - loss: 0.3411 - accuracy: 0.8554 - val_loss: 0.2034 - val_accuracy: 0.9267\n",
      "Epoch 3/100\n",
      "122/122 [==============================] - 2s 17ms/step - loss: 0.2552 - accuracy: 0.8973 - val_loss: 0.1288 - val_accuracy: 0.9533\n",
      "Epoch 4/100\n",
      "122/122 [==============================] - 2s 16ms/step - loss: 0.2072 - accuracy: 0.9240 - val_loss: 0.0877 - val_accuracy: 0.9700\n",
      "Epoch 5/100\n",
      "122/122 [==============================] - 2s 17ms/step - loss: 0.1634 - accuracy: 0.9420 - val_loss: 0.0913 - val_accuracy: 0.9800\n",
      "Epoch 6/100\n",
      "122/122 [==============================] - 2s 17ms/step - loss: 0.1414 - accuracy: 0.9497 - val_loss: 0.0526 - val_accuracy: 0.9867\n",
      "Epoch 7/100\n",
      "122/122 [==============================] - 2s 19ms/step - loss: 0.1067 - accuracy: 0.9689 - val_loss: 0.0411 - val_accuracy: 0.9917\n",
      "Epoch 8/100\n",
      "122/122 [==============================] - 2s 20ms/step - loss: 0.0915 - accuracy: 0.9707 - val_loss: 0.0447 - val_accuracy: 0.9917\n",
      "Epoch 9/100\n",
      "122/122 [==============================] - 2s 20ms/step - loss: 0.0928 - accuracy: 0.9705 - val_loss: 0.0348 - val_accuracy: 0.9933\n",
      "Epoch 10/100\n",
      "122/122 [==============================] - 2s 19ms/step - loss: 0.0852 - accuracy: 0.9712 - val_loss: 0.0294 - val_accuracy: 0.9933\n",
      "Epoch 11/100\n",
      "122/122 [==============================] - 3s 21ms/step - loss: 0.0599 - accuracy: 0.9815 - val_loss: 0.0287 - val_accuracy: 0.9933\n",
      "Epoch 12/100\n",
      "122/122 [==============================] - 2s 19ms/step - loss: 0.0538 - accuracy: 0.9818 - val_loss: 0.0257 - val_accuracy: 0.9950\n",
      "Epoch 13/100\n",
      "122/122 [==============================] - 2s 20ms/step - loss: 0.0479 - accuracy: 0.9841 - val_loss: 0.0359 - val_accuracy: 0.9933\n",
      "Epoch 14/100\n",
      "122/122 [==============================] - 2s 20ms/step - loss: 0.0537 - accuracy: 0.9838 - val_loss: 0.0253 - val_accuracy: 0.9933\n",
      "Epoch 15/100\n",
      "122/122 [==============================] - 3s 20ms/step - loss: 0.0411 - accuracy: 0.9879 - val_loss: 0.0335 - val_accuracy: 0.9917\n",
      "Epoch 16/100\n",
      "122/122 [==============================] - 2s 18ms/step - loss: 0.0424 - accuracy: 0.9869 - val_loss: 0.0250 - val_accuracy: 0.9933\n",
      "Epoch 17/100\n",
      "122/122 [==============================] - 2s 18ms/step - loss: 0.0474 - accuracy: 0.9848 - val_loss: 0.0238 - val_accuracy: 0.9967\n",
      "Epoch 18/100\n",
      "122/122 [==============================] - 2s 18ms/step - loss: 0.0383 - accuracy: 0.9879 - val_loss: 0.0227 - val_accuracy: 0.9967\n",
      "Epoch 19/100\n",
      "122/122 [==============================] - 2s 18ms/step - loss: 0.0287 - accuracy: 0.9920 - val_loss: 0.0277 - val_accuracy: 0.9950\n",
      "Epoch 20/100\n",
      "122/122 [==============================] - 2s 18ms/step - loss: 0.0345 - accuracy: 0.9884 - val_loss: 0.0291 - val_accuracy: 0.9950\n",
      "Epoch 21/100\n",
      "122/122 [==============================] - 2s 17ms/step - loss: 0.0335 - accuracy: 0.9892 - val_loss: 0.0238 - val_accuracy: 0.9950\n",
      "Epoch 22/100\n",
      "122/122 [==============================] - 2s 18ms/step - loss: 0.0291 - accuracy: 0.9920 - val_loss: 0.0223 - val_accuracy: 0.9950\n",
      "Epoch 23/100\n",
      "122/122 [==============================] - 2s 18ms/step - loss: 0.0323 - accuracy: 0.9887 - val_loss: 0.0264 - val_accuracy: 0.9950\n",
      "Epoch 24/100\n",
      "122/122 [==============================] - 2s 20ms/step - loss: 0.0239 - accuracy: 0.9938 - val_loss: 0.0247 - val_accuracy: 0.9950\n",
      "Epoch 25/100\n",
      "122/122 [==============================] - 2s 18ms/step - loss: 0.0221 - accuracy: 0.9933 - val_loss: 0.0285 - val_accuracy: 0.9950\n",
      "Epoch 26/100\n",
      "122/122 [==============================] - 2s 18ms/step - loss: 0.0174 - accuracy: 0.9951 - val_loss: 0.0247 - val_accuracy: 0.9967\n",
      "Epoch 27/100\n",
      "122/122 [==============================] - 2s 19ms/step - loss: 0.0245 - accuracy: 0.9933 - val_loss: 0.0281 - val_accuracy: 0.9950\n",
      "Epoch 28/100\n",
      "122/122 [==============================] - 2s 18ms/step - loss: 0.0192 - accuracy: 0.9949 - val_loss: 0.0177 - val_accuracy: 0.9967\n",
      "Epoch 29/100\n",
      "122/122 [==============================] - 2s 18ms/step - loss: 0.0173 - accuracy: 0.9967 - val_loss: 0.0219 - val_accuracy: 0.9967\n",
      "Epoch 30/100\n",
      "122/122 [==============================] - 2s 19ms/step - loss: 0.0221 - accuracy: 0.9931 - val_loss: 0.0275 - val_accuracy: 0.9967\n",
      "Epoch 31/100\n",
      "122/122 [==============================] - 2s 19ms/step - loss: 0.0164 - accuracy: 0.9949 - val_loss: 0.0233 - val_accuracy: 0.9950\n",
      "Epoch 32/100\n",
      "122/122 [==============================] - 2s 19ms/step - loss: 0.0145 - accuracy: 0.9964 - val_loss: 0.0223 - val_accuracy: 0.9950\n",
      "Epoch 33/100\n",
      "122/122 [==============================] - 2s 20ms/step - loss: 0.0209 - accuracy: 0.9946 - val_loss: 0.0251 - val_accuracy: 0.9967\n",
      "Epoch 34/100\n",
      "122/122 [==============================] - 2s 19ms/step - loss: 0.0125 - accuracy: 0.9961 - val_loss: 0.0395 - val_accuracy: 0.9900\n",
      "Epoch 35/100\n",
      "122/122 [==============================] - 2s 20ms/step - loss: 0.0148 - accuracy: 0.9964 - val_loss: 0.0236 - val_accuracy: 0.9967\n",
      "Epoch 36/100\n",
      "122/122 [==============================] - 2s 20ms/step - loss: 0.0224 - accuracy: 0.9918 - val_loss: 0.0197 - val_accuracy: 0.9967\n",
      "Epoch 37/100\n",
      "122/122 [==============================] - 2s 20ms/step - loss: 0.0166 - accuracy: 0.9946 - val_loss: 0.0239 - val_accuracy: 0.9967\n",
      "Epoch 38/100\n",
      "122/122 [==============================] - 2s 19ms/step - loss: 0.0088 - accuracy: 0.9974 - val_loss: 0.0212 - val_accuracy: 0.9950\n",
      "Epoch 39/100\n",
      "122/122 [==============================] - 2s 18ms/step - loss: 0.0122 - accuracy: 0.9956 - val_loss: 0.0208 - val_accuracy: 0.9950\n",
      "Epoch 40/100\n",
      "122/122 [==============================] - 2s 19ms/step - loss: 0.0082 - accuracy: 0.9977 - val_loss: 0.0289 - val_accuracy: 0.9950\n",
      "Epoch 41/100\n",
      "122/122 [==============================] - 2s 19ms/step - loss: 0.0076 - accuracy: 0.9979 - val_loss: 0.0239 - val_accuracy: 0.9967\n",
      "Epoch 42/100\n",
      "122/122 [==============================] - 2s 18ms/step - loss: 0.0176 - accuracy: 0.9936 - val_loss: 0.0210 - val_accuracy: 0.9967\n",
      "Epoch 43/100\n",
      "122/122 [==============================] - 2s 18ms/step - loss: 0.0054 - accuracy: 0.9987 - val_loss: 0.0199 - val_accuracy: 0.9967\n",
      "Epoch 44/100\n",
      "122/122 [==============================] - 2s 19ms/step - loss: 0.0066 - accuracy: 0.9987 - val_loss: 0.0223 - val_accuracy: 0.9967\n",
      "Epoch 45/100\n",
      "122/122 [==============================] - 2s 19ms/step - loss: 0.0215 - accuracy: 0.9926 - val_loss: 0.0232 - val_accuracy: 0.9933\n",
      "Epoch 46/100\n",
      "122/122 [==============================] - 2s 18ms/step - loss: 0.0191 - accuracy: 0.9946 - val_loss: 0.0211 - val_accuracy: 0.9967\n",
      "Epoch 47/100\n",
      "122/122 [==============================] - 2s 18ms/step - loss: 0.0062 - accuracy: 0.9985 - val_loss: 0.0177 - val_accuracy: 0.9967\n",
      "Epoch 48/100\n",
      "122/122 [==============================] - 2s 19ms/step - loss: 0.0047 - accuracy: 0.9987 - val_loss: 0.0200 - val_accuracy: 0.9950\n",
      "Epoch 49/100\n",
      "122/122 [==============================] - 2s 19ms/step - loss: 0.0105 - accuracy: 0.9969 - val_loss: 0.0283 - val_accuracy: 0.9967\n",
      "Epoch 50/100\n",
      "122/122 [==============================] - 3s 22ms/step - loss: 0.0031 - accuracy: 0.9992 - val_loss: 0.0233 - val_accuracy: 0.9967\n",
      "Epoch 51/100\n",
      "122/122 [==============================] - 3s 28ms/step - loss: 0.0026 - accuracy: 0.9992 - val_loss: 0.0249 - val_accuracy: 0.9967\n",
      "Epoch 52/100\n",
      "122/122 [==============================] - 3s 22ms/step - loss: 0.0044 - accuracy: 0.9987 - val_loss: 0.0247 - val_accuracy: 0.9967\n",
      "Epoch 53/100\n",
      "122/122 [==============================] - 2s 19ms/step - loss: 0.0145 - accuracy: 0.9956 - val_loss: 0.0257 - val_accuracy: 0.9950\n",
      "Epoch 54/100\n",
      "122/122 [==============================] - 2s 19ms/step - loss: 0.0070 - accuracy: 0.9985 - val_loss: 0.0185 - val_accuracy: 0.9967\n",
      "Epoch 55/100\n",
      "122/122 [==============================] - 2s 19ms/step - loss: 0.0174 - accuracy: 0.9936 - val_loss: 0.0254 - val_accuracy: 0.9967\n",
      "Epoch 56/100\n",
      "122/122 [==============================] - 2s 19ms/step - loss: 0.0107 - accuracy: 0.9951 - val_loss: 0.0268 - val_accuracy: 0.9967\n",
      "Epoch 57/100\n",
      "122/122 [==============================] - 3s 21ms/step - loss: 0.0080 - accuracy: 0.9974 - val_loss: 0.0365 - val_accuracy: 0.9933\n",
      "Epoch 58/100\n",
      "122/122 [==============================] - 3s 21ms/step - loss: 0.0109 - accuracy: 0.9967 - val_loss: 0.0240 - val_accuracy: 0.9950\n",
      "Epoch 59/100\n",
      "122/122 [==============================] - 3s 21ms/step - loss: 0.0055 - accuracy: 0.9985 - val_loss: 0.0351 - val_accuracy: 0.9933\n",
      "Epoch 60/100\n",
      "122/122 [==============================] - 3s 21ms/step - loss: 0.0113 - accuracy: 0.9961 - val_loss: 0.0221 - val_accuracy: 0.9950\n",
      "Epoch 61/100\n",
      "122/122 [==============================] - 3s 25ms/step - loss: 0.0044 - accuracy: 0.9985 - val_loss: 0.0247 - val_accuracy: 0.9967\n",
      "Epoch 62/100\n",
      "122/122 [==============================] - 3s 24ms/step - loss: 0.0040 - accuracy: 0.9987 - val_loss: 0.0234 - val_accuracy: 0.9967\n",
      "Epoch 63/100\n",
      "122/122 [==============================] - 3s 22ms/step - loss: 0.0034 - accuracy: 0.9990 - val_loss: 0.0724 - val_accuracy: 0.9900\n",
      "Epoch 64/100\n",
      "122/122 [==============================] - 3s 23ms/step - loss: 0.0132 - accuracy: 0.9959 - val_loss: 0.0268 - val_accuracy: 0.9950\n",
      "Epoch 65/100\n",
      "122/122 [==============================] - 3s 20ms/step - loss: 0.0132 - accuracy: 0.9959 - val_loss: 0.0156 - val_accuracy: 0.9967\n",
      "Epoch 66/100\n",
      "122/122 [==============================] - 3s 21ms/step - loss: 0.0035 - accuracy: 0.9990 - val_loss: 0.0212 - val_accuracy: 0.9967\n",
      "Epoch 67/100\n",
      "122/122 [==============================] - 2s 20ms/step - loss: 0.0014 - accuracy: 1.0000 - val_loss: 0.0237 - val_accuracy: 0.9967\n",
      "Epoch 68/100\n",
      "122/122 [==============================] - 3s 21ms/step - loss: 0.0063 - accuracy: 0.9977 - val_loss: 0.0179 - val_accuracy: 0.9967\n",
      "Epoch 69/100\n",
      "122/122 [==============================] - 3s 21ms/step - loss: 0.0063 - accuracy: 0.9979 - val_loss: 0.0212 - val_accuracy: 0.9983\n",
      "Epoch 70/100\n",
      "122/122 [==============================] - 3s 22ms/step - loss: 0.0147 - accuracy: 0.9938 - val_loss: 0.0392 - val_accuracy: 0.9850\n",
      "Epoch 71/100\n",
      "122/122 [==============================] - 3s 21ms/step - loss: 0.0090 - accuracy: 0.9967 - val_loss: 0.0301 - val_accuracy: 0.9967\n",
      "Epoch 72/100\n",
      "122/122 [==============================] - 3s 22ms/step - loss: 0.0060 - accuracy: 0.9977 - val_loss: 0.0336 - val_accuracy: 0.9967\n",
      "Epoch 73/100\n",
      "122/122 [==============================] - 3s 21ms/step - loss: 0.0024 - accuracy: 0.9987 - val_loss: 0.0256 - val_accuracy: 0.9967\n",
      "Epoch 74/100\n",
      "122/122 [==============================] - 3s 21ms/step - loss: 0.0081 - accuracy: 0.9969 - val_loss: 0.0176 - val_accuracy: 0.9967\n",
      "Epoch 75/100\n",
      "122/122 [==============================] - 2s 20ms/step - loss: 0.0096 - accuracy: 0.9967 - val_loss: 0.0379 - val_accuracy: 0.9917\n",
      "Epoch 76/100\n",
      "122/122 [==============================] - 3s 22ms/step - loss: 0.0078 - accuracy: 0.9972 - val_loss: 0.0326 - val_accuracy: 0.9950\n",
      "Epoch 77/100\n",
      "122/122 [==============================] - 2s 20ms/step - loss: 0.0023 - accuracy: 0.9995 - val_loss: 0.0215 - val_accuracy: 0.9967\n",
      "Epoch 78/100\n",
      "122/122 [==============================] - 3s 22ms/step - loss: 0.0069 - accuracy: 0.9974 - val_loss: 0.0362 - val_accuracy: 0.9950\n",
      "Epoch 79/100\n",
      "122/122 [==============================] - 3s 21ms/step - loss: 0.0040 - accuracy: 0.9979 - val_loss: 0.0274 - val_accuracy: 0.9967\n",
      "Epoch 80/100\n",
      "122/122 [==============================] - 3s 22ms/step - loss: 0.0047 - accuracy: 0.9990 - val_loss: 0.0210 - val_accuracy: 0.9967\n",
      "Epoch 81/100\n",
      "122/122 [==============================] - 3s 22ms/step - loss: 0.0021 - accuracy: 0.9992 - val_loss: 0.0302 - val_accuracy: 0.9967\n",
      "Epoch 82/100\n",
      "122/122 [==============================] - 3s 20ms/step - loss: 0.0020 - accuracy: 0.9997 - val_loss: 0.0393 - val_accuracy: 0.9933\n",
      "Epoch 83/100\n",
      "122/122 [==============================] - 2s 19ms/step - loss: 0.0027 - accuracy: 0.9990 - val_loss: 0.0267 - val_accuracy: 0.9967\n",
      "Epoch 84/100\n",
      "122/122 [==============================] - 2s 20ms/step - loss: 9.6884e-04 - accuracy: 0.9997 - val_loss: 0.0269 - val_accuracy: 0.9967\n",
      "Epoch 85/100\n",
      "122/122 [==============================] - 2s 20ms/step - loss: 0.0058 - accuracy: 0.9987 - val_loss: 0.0223 - val_accuracy: 0.9967\n",
      "Epoch 86/100\n",
      "122/122 [==============================] - 3s 20ms/step - loss: 0.0094 - accuracy: 0.9972 - val_loss: 0.0299 - val_accuracy: 0.9967\n",
      "Epoch 87/100\n",
      "122/122 [==============================] - 3s 21ms/step - loss: 0.0041 - accuracy: 0.9992 - val_loss: 0.0348 - val_accuracy: 0.9950\n",
      "Epoch 88/100\n",
      "122/122 [==============================] - 3s 21ms/step - loss: 0.0050 - accuracy: 0.9987 - val_loss: 0.0268 - val_accuracy: 0.9967\n",
      "Epoch 89/100\n",
      "122/122 [==============================] - 3s 20ms/step - loss: 0.0101 - accuracy: 0.9967 - val_loss: 0.0497 - val_accuracy: 0.9917\n",
      "Epoch 90/100\n",
      "122/122 [==============================] - 3s 21ms/step - loss: 0.0103 - accuracy: 0.9959 - val_loss: 0.0424 - val_accuracy: 0.9967\n",
      "Epoch 91/100\n",
      "122/122 [==============================] - 3s 20ms/step - loss: 0.0043 - accuracy: 0.9985 - val_loss: 0.0446 - val_accuracy: 0.9900\n",
      "Epoch 92/100\n",
      "122/122 [==============================] - 3s 21ms/step - loss: 0.0036 - accuracy: 0.9982 - val_loss: 0.0415 - val_accuracy: 0.9950\n",
      "Epoch 93/100\n",
      "122/122 [==============================] - 2s 20ms/step - loss: 0.0044 - accuracy: 0.9979 - val_loss: 0.0406 - val_accuracy: 0.9950\n",
      "Epoch 94/100\n",
      "122/122 [==============================] - 2s 20ms/step - loss: 0.0013 - accuracy: 1.0000 - val_loss: 0.0460 - val_accuracy: 0.9950\n",
      "Epoch 95/100\n",
      "122/122 [==============================] - 2s 20ms/step - loss: 0.0014 - accuracy: 0.9992 - val_loss: 0.0459 - val_accuracy: 0.9950\n",
      "Epoch 96/100\n",
      "122/122 [==============================] - 3s 20ms/step - loss: 6.5468e-04 - accuracy: 0.9995 - val_loss: 0.0475 - val_accuracy: 0.9950\n",
      "Epoch 97/100\n",
      "122/122 [==============================] - 3s 20ms/step - loss: 0.0037 - accuracy: 0.9987 - val_loss: 0.0424 - val_accuracy: 0.9933\n",
      "Epoch 98/100\n",
      "122/122 [==============================] - 3s 21ms/step - loss: 0.0047 - accuracy: 0.9985 - val_loss: 0.0600 - val_accuracy: 0.9933\n",
      "Epoch 99/100\n",
      "122/122 [==============================] - 3s 23ms/step - loss: 0.0013 - accuracy: 0.9995 - val_loss: 0.0593 - val_accuracy: 0.9950\n",
      "Epoch 100/100\n",
      "122/122 [==============================] - 3s 21ms/step - loss: 0.0109 - accuracy: 0.9956 - val_loss: 0.0211 - val_accuracy: 0.9967\n"
     ]
    },
    {
     "data": {
      "text/plain": [
       "<keras.callbacks.History at 0x15e0923b0>"
      ]
     },
     "execution_count": 5,
     "metadata": {},
     "output_type": "execute_result"
    }
   ],
   "source": [
    "model.fit(train_generator,validation_data=test_generator,epochs=100)"
   ]
  },
  {
   "cell_type": "code",
   "execution_count": 6,
   "id": "3eb7bbdf",
   "metadata": {},
   "outputs": [],
   "source": [
    "model.save('Prediction_CNN.keras')"
   ]
  },
  {
   "cell_type": "markdown",
   "id": "82e4a8ec",
   "metadata": {},
   "source": [
    "# PREDICT USING MODEL"
   ]
  },
  {
   "cell_type": "code",
   "execution_count": 2,
   "id": "ce7f828a",
   "metadata": {},
   "outputs": [],
   "source": [
    "model=tf.keras.models.load_model('Prediction_CNN.keras')"
   ]
  },
  {
   "cell_type": "code",
   "execution_count": 3,
   "id": "c579b137",
   "metadata": {},
   "outputs": [],
   "source": [
    "def prepare_image(image_path):\n",
    "    img = image.load_img(image_path, target_size=(28, 28), color_mode=\"grayscale\")\n",
    "    img_array = image.img_to_array(img)\n",
    "    img_array = np.expand_dims(img_array, axis=0)\n",
    "    img_array /= 255.0 \n",
    "    return img_array\n",
    "\n",
    "new_image = prepare_image('./predict_samples/0.5.jpg')\n"
   ]
  },
  {
   "cell_type": "code",
   "execution_count": 4,
   "id": "fdc4bada",
   "metadata": {},
   "outputs": [
    {
     "name": "stdout",
     "output_type": "stream",
     "text": [
      "1/1 [==============================] - 0s 118ms/step\n",
      "Predicted class: Halves\n"
     ]
    }
   ],
   "source": [
    "predictions = model.predict(new_image)\n",
    "classes = ['Single Digit','Halves']\n",
    "predicted_class = classes[np.argmax(predictions, axis=1)[0]]\n",
    "print(f\"Predicted class: {predicted_class}\")"
   ]
  },
  {
   "cell_type": "code",
   "execution_count": null,
   "id": "fdd76094",
   "metadata": {},
   "outputs": [],
   "source": []
  }
 ],
 "metadata": {
  "kernelspec": {
   "display_name": "Python 3 (ipykernel)",
   "language": "python",
   "name": "python3"
  },
  "language_info": {
   "codemirror_mode": {
    "name": "ipython",
    "version": 3
   },
   "file_extension": ".py",
   "mimetype": "text/x-python",
   "name": "python",
   "nbconvert_exporter": "python",
   "pygments_lexer": "ipython3",
   "version": "3.11.2"
  }
 },
 "nbformat": 4,
 "nbformat_minor": 5
}
