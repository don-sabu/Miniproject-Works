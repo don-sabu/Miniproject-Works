{
 "cells": [
  {
   "cell_type": "code",
   "execution_count": 10,
   "id": "98e6b314",
   "metadata": {},
   "outputs": [],
   "source": [
    "import tensorflow as tf\n",
    "from tensorflow.keras.preprocessing.image import ImageDataGenerator\n",
    "from tensorflow.keras.models import Sequential\n",
    "from tensorflow.keras.layers import Conv2D, MaxPooling2D, Flatten, Dense, Dropout\n",
    "from tensorflow.keras.preprocessing import image\n",
    "import numpy as np"
   ]
  },
  {
   "cell_type": "markdown",
   "id": "11c94cf6",
   "metadata": {},
   "source": [
    "# TRAIN MODEL "
   ]
  },
  {
   "cell_type": "code",
   "execution_count": null,
   "id": "b4f71a0c",
   "metadata": {},
   "outputs": [],
   "source": [
    "train_data_gen = ImageDataGenerator(rescale=1./255)\n",
    "test_data_gen = ImageDataGenerator(rescale=1./255)\n",
    "\n",
    "train_generator = train_data_gen.flow_from_directory(\n",
    "    'train_set',  \n",
    "    target_size=(28, 28),\n",
    "    color_mode='grayscale',\n",
    "    batch_size=32,\n",
    "    class_mode='sparse',\n",
    "    classes=['0', '1', '2', '3', '4', '5', '6', '7','none']  \n",
    ")\n",
    "\n",
    "\n",
    "test_generator = test_data_gen.flow_from_directory(\n",
    "    'test_set',\n",
    "    target_size=(28, 28),\n",
    "    color_mode='grayscale',\n",
    "    batch_size=32,\n",
    "    class_mode='sparse',\n",
    "    classes=['0', '1', '2', '3', '4', '5', '6', '7','none'] \n",
    ")"
   ]
  },
  {
   "cell_type": "code",
   "execution_count": null,
   "id": "b77efe49",
   "metadata": {},
   "outputs": [],
   "source": [
    "model = Sequential([\n",
    "    Conv2D(32, (3, 3), activation='relu', input_shape=(28, 28, 1)),\n",
    "    MaxPooling2D(2, 2),\n",
    "    Conv2D(64, (3, 3), activation='relu'),\n",
    "    MaxPooling2D(2, 2),\n",
    "    Flatten(),\n",
    "    Dense(128, activation='relu'),\n",
    "    Dropout(0.5),\n",
    "    Dense(9, activation='softmax') \n",
    "])"
   ]
  },
  {
   "cell_type": "code",
   "execution_count": null,
   "id": "d299330e",
   "metadata": {},
   "outputs": [],
   "source": [
    "model.compile(optimizer='adam',loss='sparse_categorical_crossentropy',metrics=['accuracy'])"
   ]
  },
  {
   "cell_type": "code",
   "execution_count": null,
   "id": "5752b2a4",
   "metadata": {},
   "outputs": [],
   "source": [
    "model.fit(train_generator,validation_data=test_generator,epochs=250)"
   ]
  },
  {
   "cell_type": "code",
   "execution_count": null,
   "id": "3eb7bbdf",
   "metadata": {},
   "outputs": [],
   "source": [
    "model.save('Prediction_CNN.keras')"
   ]
  },
  {
   "cell_type": "markdown",
   "id": "82e4a8ec",
   "metadata": {},
   "source": [
    "# PREDICT USING MODEL"
   ]
  },
  {
   "cell_type": "code",
   "execution_count": 11,
   "id": "ce7f828a",
   "metadata": {},
   "outputs": [],
   "source": [
    "model=tf.keras.models.load_model('Prediction_CNN.keras')"
   ]
  },
  {
   "cell_type": "code",
   "execution_count": 12,
   "id": "c579b137",
   "metadata": {},
   "outputs": [],
   "source": [
    "def prepare_image(image_path):\n",
    "    img = image.load_img(image_path, target_size=(28, 28), color_mode=\"grayscale\")\n",
    "    img_array = image.img_to_array(img)\n",
    "    img_array = np.expand_dims(img_array, axis=0)\n",
    "    img_array /= 255.0 \n",
    "    return img_array\n",
    "\n",
    "new_image = prepare_image('./predict_samples/test.png')\n"
   ]
  },
  {
   "cell_type": "code",
   "execution_count": 13,
   "id": "fdc4bada",
   "metadata": {},
   "outputs": [
    {
     "name": "stdout",
     "output_type": "stream",
     "text": [
      "1/1 [==============================] - 0s 80ms/step\n",
      "Predicted class: 3\n"
     ]
    }
   ],
   "source": [
    "predictions = model.predict(new_image)\n",
    "classes = ['0', '1', '2', '3', '4', '5', '6', '7', 'none']\n",
    "predicted_class = classes[np.argmax(predictions, axis=1)[0]]\n",
    "print(f\"Predicted class: {predicted_class}\")"
   ]
  },
  {
   "cell_type": "code",
   "execution_count": null,
   "id": "4f49f4c7",
   "metadata": {},
   "outputs": [],
   "source": []
  }
 ],
 "metadata": {
  "kernelspec": {
   "display_name": "Python 3 (ipykernel)",
   "language": "python",
   "name": "python3"
  },
  "language_info": {
   "codemirror_mode": {
    "name": "ipython",
    "version": 3
   },
   "file_extension": ".py",
   "mimetype": "text/x-python",
   "name": "python",
   "nbconvert_exporter": "python",
   "pygments_lexer": "ipython3",
   "version": "3.10.1"
  }
 },
 "nbformat": 4,
 "nbformat_minor": 5
}
